{
 "cells": [
  {
   "cell_type": "markdown",
   "id": "91cf346b-25cf-4e72-82ef-21b2a8aa4b5e",
   "metadata": {},
   "source": [
    "# <u>Project Design:</u>"
   ]
  },
  {
   "cell_type": "markdown",
   "id": "76784d99-fd6d-4c64-a69b-b4fb44856e58",
   "metadata": {},
   "source": [
    "## Proposal:\n",
    "\n",
    "You have an entity that can move on a grid of size nxm, with the following moves allowed (one step at a time horizontally/vertically), and there are preset obstacles on the grid. The pre-set obstacles are chess pieces that will prevent the entity from moving to reach its goal. For example a bishop covering a diagonal and if the entity passes a square covered by the bishop's line it is eaten. The obstacle can be eaten by the entity if it is in its path. The task is to find the optimal and shortest path to a point B from a point A an algorithm called Breadth First Search BFS.\n"
   ]
  },
  {
   "cell_type": "markdown",
   "id": "a9bfcf58-9c93-4a40-aafc-0d74255e294e",
   "metadata": {},
   "source": [
    "## Define the steps of the project\n",
    "\n",
    "**1.** Define the work's plan (chessboard) and the class  \n",
    "**2.** Define the visualization functions  \n",
    "**3.** Add a security function  \n",
    "**4.** Add two obstacles (like other chess's pieces) and their moves  \n",
    "**5.** Define the function for the shortest path and add to avoid the areas covered by the two obstacles  \n",
    "**6.** Add a visualization of the game and an interative input  "
   ]
  },
  {
   "cell_type": "markdown",
   "id": "80368391-e10e-421b-8265-eeaf18cb9d8d",
   "metadata": {},
   "source": [
    "# <u>Code Part:</u>"
   ]
  },
  {
   "cell_type": "code",
   "execution_count": 1,
   "id": "77160144-027f-49ad-a911-62e1a8d8879e",
   "metadata": {
    "execution": {
     "iopub.execute_input": "2024-05-19T09:38:45.747032Z",
     "iopub.status.busy": "2024-05-19T09:38:45.746365Z",
     "iopub.status.idle": "2024-05-19T09:38:47.607056Z",
     "shell.execute_reply": "2024-05-19T09:38:47.606409Z",
     "shell.execute_reply.started": "2024-05-19T09:38:45.746931Z"
    },
    "tags": []
   },
   "outputs": [],
   "source": [
    "# Import all the necessary packages:\n",
    "\n",
    "import numpy as np\n",
    "import matplotlib.pyplot as plt\n",
    "import matplotlib.patches as patches\n",
    "#import pygame # Import Pygame to create an interactive graphical interface, if you choose to make the game visually dynamic\n",
    "import scipy\n",
    "from scipy.stats import norm\n",
    "import random\n",
    "import pandas as pd\n",
    "from PIL import Image\n",
    "from collections import deque"
   ]
  },
  {
   "cell_type": "markdown",
   "id": "c56658f5-0292-493d-9c86-59366e04cc17",
   "metadata": {},
   "source": [
    "## 1. First step:"
   ]
  },
  {
   "cell_type": "code",
   "execution_count": 2,
   "id": "674c545f-1afc-46a3-b262-3a85c5132b06",
   "metadata": {
    "execution": {
     "iopub.execute_input": "2024-05-19T09:38:47.608354Z",
     "iopub.status.busy": "2024-05-19T09:38:47.608182Z",
     "iopub.status.idle": "2024-05-19T09:38:47.613147Z",
     "shell.execute_reply": "2024-05-19T09:38:47.612584Z",
     "shell.execute_reply.started": "2024-05-19T09:38:47.608334Z"
    },
    "tags": []
   },
   "outputs": [],
   "source": [
    "# Create the cells class:\n",
    "class Cell:\n",
    "    def __init__(self, x=0, y=0, dist=0, parent=None):\n",
    "        self.x = x\n",
    "        self.y = y\n",
    "        self.dist = dist\n",
    "        self.parent = parent\n",
    "\n",
    "# Create the Chessboard:\n",
    "def Chessboard(n):\n",
    "    base_row = np.tile([1, 0], (n + 1) // 2)[:n]\n",
    "    board = np.tile(base_row, (n, 1))\n",
    "    for i in range(n):\n",
    "        if i % 2 != 0:\n",
    "            board[i] = np.roll(board[i], 1)\n",
    "    return board"
   ]
  },
  {
   "cell_type": "markdown",
   "id": "a1138574-f77d-472f-a41c-81605a6a5960",
   "metadata": {},
   "source": [
    "## 2. Second step:"
   ]
  },
  {
   "cell_type": "code",
   "execution_count": 3,
   "id": "8f80785e-da20-4f2e-b71c-caf83f559bbb",
   "metadata": {
    "execution": {
     "iopub.execute_input": "2024-05-19T09:38:47.614024Z",
     "iopub.status.busy": "2024-05-19T09:38:47.613884Z",
     "iopub.status.idle": "2024-05-19T09:38:47.650076Z",
     "shell.execute_reply": "2024-05-19T09:38:47.649301Z",
     "shell.execute_reply.started": "2024-05-19T09:38:47.614007Z"
    },
    "tags": []
   },
   "outputs": [],
   "source": [
    "# Define the visualization functions:\n",
    "def plot_chessboard(ax, board):\n",
    "    ax.imshow(board, cmap='gray', interpolation='nearest')\n",
    "    ax.set_xticks([])\n",
    "    ax.set_yticks([])\n",
    "\n",
    "def plot_piece(ax, position, color, label):\n",
    "    ax.add_patch(patches.Circle((position[1], position[0]), 0.4, color=color, fill=True))\n",
    "    ax.text(position[1], position[0], label, color='white', fontsize=12, ha='center', va='center')\n",
    "\n",
    "def plot_square(ax, position, color, linewidth):\n",
    "    ax.add_patch(patches.Rectangle((position[1] - 0.5, position[0] - 0.5), 1, 1, edgecolor=color, facecolor='none', lw=linewidth))\n",
    "\n",
    "# Funzione per visualizzare le caselle minacciate\n",
    "def plot_threatened_squares(ax, n, bishopRow, bishopCol, rookRow, rookCol):\n",
    "    if bishopRow < n and bishopCol < n:\n",
    "        for i in range(n):\n",
    "            for j in range(n):\n",
    "                if abs(bishopRow - i) == abs(bishopCol - j) and (i != bishopRow or j != bishopCol):\n",
    "                    ax.add_patch(patches.Circle((j, i), 0.2, color='purple', fill=True, alpha=0.5))\n",
    "\n",
    "    if rookRow < n and rookCol < n:\n",
    "        for i in range(n):\n",
    "            if i != rookRow:\n",
    "                ax.add_patch(patches.Circle((rookCol, i), 0.2, color='orange', fill=True, alpha=0.5))\n",
    "            if i != rookCol:\n",
    "                ax.add_patch(patches.Circle((i, rookRow), 0.2, color='orange', fill=True, alpha=0.5))\n",
    "\n",
    "def draw_path(ax, path):\n",
    "    for (i, j) in path:\n",
    "        ax.add_patch(patches.Circle((j, i), 0.3, color='red', fill=True, alpha=0.7))\n",
    "    for k in range(len(path) - 1):\n",
    "        (i1, j1), (i2, j2) = path[k], path[k + 1]\n",
    "        ax.plot([j1, j2], [i1, i2], color='red', linewidth=2)"
   ]
  },
  {
   "cell_type": "markdown",
   "id": "fd21d449-cc09-44cd-be36-828a44b144b8",
   "metadata": {},
   "source": [
    "## 3. Thirdth step:"
   ]
  },
  {
   "cell_type": "code",
   "execution_count": 4,
   "id": "c70f03e6-1184-4b05-877f-12c7d4805c68",
   "metadata": {
    "execution": {
     "iopub.execute_input": "2024-05-19T09:38:47.651340Z",
     "iopub.status.busy": "2024-05-19T09:38:47.651155Z",
     "iopub.status.idle": "2024-05-19T09:38:47.673411Z",
     "shell.execute_reply": "2024-05-19T09:38:47.672839Z",
     "shell.execute_reply.started": "2024-05-19T09:38:47.651320Z"
    },
    "tags": []
   },
   "outputs": [],
   "source": [
    "def is_inside(x, y, n):\n",
    "    return 0 <= x < n and 0 <= y < n"
   ]
  },
  {
   "cell_type": "markdown",
   "id": "f653613c-e977-45bf-ab1a-952dac716be4",
   "metadata": {},
   "source": [
    "## 4. Fourth step:"
   ]
  },
  {
   "cell_type": "code",
   "execution_count": 5,
   "id": "dcb9989f-3466-4e2b-9c9a-d8a0ab0de8a7",
   "metadata": {
    "execution": {
     "iopub.execute_input": "2024-05-19T09:38:47.675442Z",
     "iopub.status.busy": "2024-05-19T09:38:47.674916Z",
     "iopub.status.idle": "2024-05-19T09:38:47.693626Z",
     "shell.execute_reply": "2024-05-19T09:38:47.692904Z",
     "shell.execute_reply.started": "2024-05-19T09:38:47.675412Z"
    },
    "tags": []
   },
   "outputs": [],
   "source": [
    "def isBishopAlive(n, bishopRow, bishopCol):\n",
    "    if bishopRow < n and bishopCol < n:\n",
    "        return True\n",
    "    else:\n",
    "        return False\n",
    "    \n",
    "def isRookAlive(n, rookRow, rookCol):\n",
    "    if rookRow < n and rookCol < n:\n",
    "        return True\n",
    "    else:\n",
    "        return False"
   ]
  },
  {
   "cell_type": "markdown",
   "id": "6c9e95ef-b93f-475f-9f5c-cf779561bbc3",
   "metadata": {},
   "source": [
    "## 5. Fifth step:"
   ]
  },
  {
   "cell_type": "code",
   "execution_count": 6,
   "id": "dc7aab66-46bd-40d6-befd-f6d70a76faee",
   "metadata": {
    "execution": {
     "iopub.execute_input": "2024-05-19T09:38:47.694587Z",
     "iopub.status.busy": "2024-05-19T09:38:47.694449Z",
     "iopub.status.idle": "2024-05-19T09:38:47.709924Z",
     "shell.execute_reply": "2024-05-19T09:38:47.709477Z",
     "shell.execute_reply.started": "2024-05-19T09:38:47.694570Z"
    },
    "tags": []
   },
   "outputs": [],
   "source": [
    "def moves(n, startRow, startCol, endRow, endCol, bishopRow, bishopCol, rookRow, rookCol):\n",
    "    if startRow == endRow and startCol == endCol:  # Caso banale\n",
    "        return 0, [(startRow, startCol)]\n",
    "    \n",
    "    moves = ((2,1), (1,2), (-1,2), (-2,1), (-2,-1), (-1,-2), (1,-2), (2,-1))\n",
    "    queue = deque()\n",
    "    queue.append([startRow, startCol, True, True, 0, [(startRow, startCol)]])  # Includere che il vescovo è vivo\n",
    "    visited = set([(startRow, startCol, True, True)])  # Impostare come visitato\n",
    "    \n",
    "    while queue:\n",
    "        i, j, alive_bishop, alive_rook, steps, path = queue.popleft()        \n",
    "        for di, dj in moves:\n",
    "            cr = i + di\n",
    "            cc = j + dj\n",
    "            \n",
    "            # Aggiornare lo stato di vita solo per il percorso corrente\n",
    "            stillalive_bishop = alive_bishop and (cr != bishopRow or cc != bishopCol)\n",
    "            stillalive_rook = alive_rook and (cr != rookRow or cc != rookCol)\n",
    "            \n",
    "            if 0 <= cr < n and 0 <= cc < n and (cr, cc, stillalive_bishop, stillalive_rook) not in visited and (\n",
    "                    not stillalive_bishop or abs(cr - bishopRow) != abs(cc - bishopCol)) and (\n",
    "                    not stillalive_rook or (cr != rookRow and cc != rookCol)):\n",
    "                \n",
    "                if cr == endRow and cc == endCol:\n",
    "                    return steps + 1, path + [(cr, cc)]\n",
    "                \n",
    "                pathnew = path + [(cr, cc)]\n",
    "                queue.append((cr, cc, stillalive_bishop, stillalive_rook, steps + 1, pathnew))\n",
    "                visited.add((cr, cc, stillalive_bishop, stillalive_rook))    \n",
    "    return -1, None"
   ]
  },
  {
   "cell_type": "markdown",
   "id": "a6d9b075-8ea7-49cb-960f-5c338bdddf7c",
   "metadata": {},
   "source": [
    "## 6. Sixth step:"
   ]
  },
  {
   "cell_type": "code",
   "execution_count": 8,
   "id": "cbad8f6b-5b06-4120-8504-d4af79d25b0f",
   "metadata": {
    "execution": {
     "iopub.execute_input": "2024-05-19T09:39:10.994970Z",
     "iopub.status.busy": "2024-05-19T09:39:10.994254Z",
     "iopub.status.idle": "2024-05-19T09:39:11.187734Z",
     "shell.execute_reply": "2024-05-19T09:39:11.187157Z",
     "shell.execute_reply.started": "2024-05-19T09:39:10.994936Z"
    },
    "tags": []
   },
   "outputs": [
    {
     "name": "stdout",
     "output_type": "stream",
     "text": [
      "Minimum steps required: 7\n",
      "Coordinate of the path: [(0, 0), (2, 1), (4, 0), (6, 1), (7, 3), (8, 5), (7, 7), (9, 6)]\n"
     ]
    },
    {
     "data": {
      "image/png": "[encoded data removed]",
      "text/plain": [
       "<Figure size 432x288 with 1 Axes>"
      ]
     },
     "metadata": {},
     "output_type": "display_data"
    }
   ],
   "source": [
    "# Configurazione e visualizzazione della scacchiera e dei pezzi\n",
    "n = 10\n",
    "startRow, startCol = 0, 0\n",
    "endRow, endCol = 9, 6\n",
    "bishopRow, bishopCol = 8, 5\n",
    "rookRow, rookCol = 3, 2\n",
    "\n",
    "board = Chessboard(n)\n",
    "fig, ax = plt.subplots()\n",
    "plot_chessboard(ax, board)\n",
    "plot_square(ax, (startRow, startCol), 'green', 3)\n",
    "plot_square(ax, (endRow, endCol), 'blue', 3)\n",
    "plot_piece(ax, (startRow, startCol), 'red', 'K')\n",
    "plot_piece(ax, (bishopRow, bishopCol), 'purple', 'B')\n",
    "plot_piece(ax, (rookRow, rookCol), 'orange', 'R')\n",
    "plot_piece(ax, (endRow, endCol), 'red', 'K')\n",
    "plot_threatened_squares(ax, n, bishopRow, bishopCol, rookRow, rookCol)\n",
    "\n",
    "\n",
    "result = moves(n, startRow, startCol, endRow, endCol, bishopRow, bishopCol, rookRow, rookCol)\n",
    "if result[0] != -1:\n",
    "    steps, path = result\n",
    "    draw_path(ax, path)\n",
    "    print(f\"Minimum steps required: {steps}\")\n",
    "    print(\"Coordinate of the path:\", path)\n",
    "else:\n",
    "    print(\"No path found to reach the target.\")\n",
    "\n",
    "plt.show()"
   ]
  },
  {
   "cell_type": "code",
   "execution_count": null,
   "id": "9ca1c85e-06b2-48e1-b46d-934032209acb",
   "metadata": {},
   "outputs": [],
   "source": []
  }
 ],
 "metadata": {
  "kernelspec": {
   "display_name": "Python 3 (ipykernel)",
   "language": "python",
   "name": "python3"
  },
  "language_info": {
   "codemirror_mode": {
    "name": "ipython",
    "version": 3
   },
   "file_extension": ".py",
   "mimetype": "text/x-python",
   "name": "python",
   "nbconvert_exporter": "python",
   "pygments_lexer": "ipython3",
   "version": "3.8.13"
  }
 },
 "nbformat": 4,
 "nbformat_minor": 5
}
