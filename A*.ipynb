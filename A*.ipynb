{
 "cells": [
  {
   "cell_type": "markdown",
   "id": "91cf346b-25cf-4e72-82ef-21b2a8aa4b5e",
   "metadata": {},
   "source": [
    "# <u>Project Design:</u>"
   ]
  },
  {
   "cell_type": "markdown",
   "id": "76784d99-fd6d-4c64-a69b-b4fb44856e58",
   "metadata": {},
   "source": [
    "## Proposal:\n",
    "\n",
    "You have an entity that can move on a grid of size nxm, with the following moves allowed (one step at a time horizontally/vertically), and there are preset obstacles on the grid. The pre-set obstacles are chess pieces that will prevent the entity from moving to reach its goal. For example a bishop covering a diagonal and if the entity passes a square covered by the bishop's line it is eaten. The obstacle can be eaten by the entity if it is in its path. The task is to find the optimal and shortest path to a point B from a point A an algorithm called Breadth First Search BFS.\n"
   ]
  },
  {
   "cell_type": "markdown",
   "id": "a9bfcf58-9c93-4a40-aafc-0d74255e294e",
   "metadata": {},
   "source": [
    "## Define the steps of the project\n",
    "\n",
    "**1.** Define the work's plan (chessboard)  \n",
    "**2.** Define the mobile object and his moves  \n",
    "**3.** Add a start and an end points that changes every time I run the code  \n",
    "**4.** Build a function that caluculate the shortest path with only horizontal and vertical moves.  \n",
    "**5.** Add two obstacles (like other chess's pieces) and their moves  \n",
    "**6.** Modify the function for the shortest path and add to avoid the areas covered by the two obstacles  \n",
    "**7.** Add a visualization of the game  "
   ]
  },
  {
   "cell_type": "markdown",
   "id": "80368391-e10e-421b-8265-eeaf18cb9d8d",
   "metadata": {},
   "source": [
    "# <u>Code Part:</u>"
   ]
  },
  {
   "cell_type": "code",
   "execution_count": 2,
   "id": "77160144-027f-49ad-a911-62e1a8d8879e",
   "metadata": {
    "execution": {
     "iopub.execute_input": "2024-05-05T20:17:09.774647Z",
     "iopub.status.busy": "2024-05-05T20:17:09.773791Z",
     "iopub.status.idle": "2024-05-05T20:17:11.498141Z",
     "shell.execute_reply": "2024-05-05T20:17:11.497440Z",
     "shell.execute_reply.started": "2024-05-05T20:17:09.774613Z"
    },
    "tags": []
   },
   "outputs": [
    {
     "name": "stdout",
     "output_type": "stream",
     "text": [
      "pygame 2.5.2 (SDL 2.28.2, Python 3.8.13)\n",
      "Hello from the pygame community. https://www.pygame.org/contribute.html\n"
     ]
    }
   ],
   "source": [
    "# Import all the necessary packages:\n",
    "\n",
    "import numpy as np\n",
    "import matplotlib.pyplot as plt\n",
    "import matplotlib.patches as patches\n",
    "import pygame # Import Pygame to create an interactive graphical interface, if you choose to make the game visually dynamic\n",
    "import scipy\n",
    "from scipy.stats import norm\n",
    "import random\n",
    "import pandas as pd\n",
    "from PIL import Image\n",
    "from collections import deque"
   ]
  },
  {
   "cell_type": "code",
   "execution_count": 1,
   "id": "10fb82e6-6256-419f-b9cd-1dbf0d9f4319",
   "metadata": {
    "execution": {
     "iopub.execute_input": "2024-05-05T20:58:36.940597Z",
     "iopub.status.busy": "2024-05-05T20:58:36.940295Z",
     "iopub.status.idle": "2024-05-05T20:58:37.777551Z",
     "shell.execute_reply": "2024-05-05T20:58:37.776662Z",
     "shell.execute_reply.started": "2024-05-05T20:58:36.940563Z"
    },
    "tags": []
   },
   "outputs": [
    {
     "ename": "NameError",
     "evalue": "name 'create_chessboard' is not defined",
     "output_type": "error",
     "traceback": [
      "\u001b[0;31m---------------------------------------------------------------------------\u001b[0m",
      "\u001b[0;31mNameError\u001b[0m                                 Traceback (most recent call last)",
      "Input \u001b[0;32mIn [1]\u001b[0m, in \u001b[0;36m<cell line: 57>\u001b[0;34m()\u001b[0m\n\u001b[1;32m     55\u001b[0m bishop_pos \u001b[38;5;241m=\u001b[39m (\u001b[38;5;241m2\u001b[39m, \u001b[38;5;241m2\u001b[39m)\n\u001b[1;32m     56\u001b[0m rook_pos \u001b[38;5;241m=\u001b[39m (\u001b[38;5;241m0\u001b[39m, \u001b[38;5;241m7\u001b[39m)\n\u001b[0;32m---> 57\u001b[0m board \u001b[38;5;241m=\u001b[39m \u001b[43mcreate_chessboard\u001b[49m(N)\n\u001b[1;32m     59\u001b[0m fig, ax \u001b[38;5;241m=\u001b[39m plt\u001b[38;5;241m.\u001b[39msubplots()\n\u001b[1;32m     60\u001b[0m plot_chessboard(ax, board)\n",
      "\u001b[0;31mNameError\u001b[0m: name 'create_chessboard' is not defined"
     ]
    }
   ],
   "source": [
    "import numpy as np\n",
    "import matplotlib.pyplot as plt\n",
    "import matplotlib.patches as patches\n",
    "from collections import deque\n",
    "import heapq\n",
    "\n",
    "class cell:\n",
    "    def __init__(self, x, y, cost=0, parent=None):\n",
    "        self.x = x\n",
    "        self.y = y\n",
    "        self.cost = cost\n",
    "        self.parent = parent\n",
    "\n",
    "def heuristic(current, goal):\n",
    "    \"\"\"Usa la distanza di Chebyshev perché è più adatta per i movimenti del cavallo.\"\"\"\n",
    "    return max(abs(current[0] - goal[0]), abs(current[1] - goal[1]))\n",
    "\n",
    "def A_star(ax, knightpos, targetpos, N, bishop_pos, rook_pos):\n",
    "    open_heap = []\n",
    "    heapq.heappush(open_heap, (0 + heuristic(knightpos, targetpos), knightpos, 0, None))  # (priority, position, cost, parent)\n",
    "    visited = set()\n",
    "    visited.add(knightpos)\n",
    "    parents = {knightpos: None}\n",
    "\n",
    "    while open_heap:\n",
    "        _, current, current_cost, parent = heapq.heappop(open_heap)\n",
    "\n",
    "        if current == targetpos:\n",
    "            path = []\n",
    "            while current:\n",
    "                path.append(current)\n",
    "                current = parents[current]\n",
    "            return path[::-1]\n",
    "\n",
    "        for dx, dy in [(2, 1), (1, 2), (-1, 2), (-2, 1), (-2, -1), (-1, -2), (1, -2), (2, -1)]:\n",
    "            nx, ny = current[0] + dx, current[1] + dy\n",
    "            next_pos = (nx, ny)\n",
    "            if 0 <= nx < N and 0 <= ny < N and next_pos not in visited and can_move(nx, ny, bishop_pos, rook_pos):\n",
    "                visited.add(next_pos)\n",
    "                parents[next_pos] = current\n",
    "                next_cost = current_cost + 1\n",
    "                priority = next_cost + heuristic(next_pos, targetpos)\n",
    "                heapq.heappush(open_heap, (priority, next_pos, next_cost, current))\n",
    "\n",
    "    return None  # If no path is found\n",
    "\n",
    "def can_move(x, y, bishop_pos, rook_pos):\n",
    "    \"\"\"Allow movement unless it's on the attacked path or position of bishops and rooks.\"\"\"\n",
    "    return (x, y) not in [bishop_pos, rook_pos]\n",
    "\n",
    "# Example usage\n",
    "N = 8\n",
    "knightpos = (0, 0)\n",
    "targetpos = (7, 7)\n",
    "bishop_pos = (2, 2)\n",
    "rook_pos = (0, 7)\n",
    "board = create_chessboard(N)\n",
    "\n",
    "fig, ax = plt.subplots()\n",
    "plot_chessboard(ax, board)\n",
    "plot_piece(ax, bishop_pos, 'purple', 'B')  # Bishop\n",
    "plot_piece(ax, rook_pos, 'orange', 'R')  # Rook\n",
    "path = A_star(ax, knightpos, targetpos, N, bishop_pos, rook_pos)\n",
    "if path:\n",
    "    draw_path(ax, path)\n",
    "plt.show()\n"
   ]
  },
  {
   "cell_type": "markdown",
   "id": "c56658f5-0292-493d-9c86-59366e04cc17",
   "metadata": {},
   "source": [
    "## 1/2. First and second steps:"
   ]
  },
  {
   "cell_type": "code",
   "execution_count": 16,
   "id": "674c545f-1afc-46a3-b262-3a85c5132b06",
   "metadata": {
    "execution": {
     "iopub.execute_input": "2024-05-05T20:31:08.820842Z",
     "iopub.status.busy": "2024-05-05T20:31:08.820431Z",
     "iopub.status.idle": "2024-05-05T20:31:08.827243Z",
     "shell.execute_reply": "2024-05-05T20:31:08.826647Z",
     "shell.execute_reply.started": "2024-05-05T20:31:08.820818Z"
    },
    "tags": []
   },
   "outputs": [],
   "source": [
    "# Create the chessboard\n",
    "\n",
    "class cell:\n",
    "    def __init__(self, x=0, y=0, dist=0, parent=None):\n",
    "        self.x = x\n",
    "        self.y = y\n",
    "        self.dist = dist\n",
    "        self.parent = parent\n",
    "\n",
    "def create_chessboard(N):\n",
    "    base_row = np.tile([1, 0], (N + 1) // 2)[:N]\n",
    "    board = np.tile(base_row, (N, 1))\n",
    "    for i in range(N):\n",
    "        if i % 2 != 0:\n",
    "            board[i] = np.roll(board[i], 1)\n",
    "    return board\n",
    "\n",
    "def plot_chessboard(ax, board):\n",
    "    ax.imshow(board, cmap='gray', interpolation='nearest')\n",
    "    ax.set_xticks([])\n",
    "    ax.set_yticks([])\n",
    "\n",
    "# 2. Create the knight:\n",
    "\n",
    "def plot_knight(ax, position):\n",
    "    ax.add_patch(patches.Circle((position[1], position[0]), 0.5, color='red', fill=True))\n",
    "\n",
    "def isInside(x, y, N):\n",
    "    return 0 <= x < N and 0 <= y < N"
   ]
  },
  {
   "cell_type": "markdown",
   "id": "a1138574-f77d-472f-a41c-81605a6a5960",
   "metadata": {},
   "source": [
    "## 3. Third step:"
   ]
  },
  {
   "cell_type": "code",
   "execution_count": 17,
   "id": "8f80785e-da20-4f2e-b71c-caf83f559bbb",
   "metadata": {
    "execution": {
     "iopub.execute_input": "2024-05-05T20:31:14.493979Z",
     "iopub.status.busy": "2024-05-05T20:31:14.493548Z",
     "iopub.status.idle": "2024-05-05T20:31:14.497971Z",
     "shell.execute_reply": "2024-05-05T20:31:14.497411Z",
     "shell.execute_reply.started": "2024-05-05T20:31:14.493949Z"
    },
    "tags": []
   },
   "outputs": [],
   "source": [
    "# Add a start and an end points with a red line for the shortest path:\n",
    "\n",
    "def draw_path(ax, path):\n",
    "    x_coords = [p[1] for p in path]\n",
    "    y_coords = [p[0] for p in path]\n",
    "    ax.plot(x_coords, y_coords, 'r-', linewidth=2)  # Red line for the path\n",
    "    ax.plot(x_coords[0], y_coords[0], 'go')  # Start in green\n",
    "    ax.plot(x_coords[-1], y_coords[-1], 'bo')  # End in blue"
   ]
  },
  {
   "cell_type": "markdown",
   "id": "fd21d449-cc09-44cd-be36-828a44b144b8",
   "metadata": {},
   "source": [
    "## 4. Fourth step:"
   ]
  },
  {
   "cell_type": "code",
   "execution_count": 18,
   "id": "c70f03e6-1184-4b05-877f-12c7d4805c68",
   "metadata": {
    "execution": {
     "iopub.execute_input": "2024-05-05T20:31:15.947632Z",
     "iopub.status.busy": "2024-05-05T20:31:15.947034Z",
     "iopub.status.idle": "2024-05-05T20:31:15.954986Z",
     "shell.execute_reply": "2024-05-05T20:31:15.954346Z",
     "shell.execute_reply.started": "2024-05-05T20:31:15.947600Z"
    },
    "tags": []
   },
   "outputs": [],
   "source": [
    "def minStepToReachTarget(ax, knightpos, targetpos, N):\n",
    "    dx = [2, 2, -2, -2, 1, 1, -1, -1]\n",
    "    dy = [1, -1, 1, -1, 2, -2, 2, -2]\n",
    "\n",
    "    queue = deque([cell(knightpos[0], knightpos[1], 0)])\n",
    "    visited = [[False] * N for _ in range(N)]\n",
    "    visited[knightpos[0]][knightpos[1]] = True\n",
    "\n",
    "    while queue:\n",
    "        t = queue.popleft()\n",
    "        #plot_knight(ax, (t.x, t.y))\n",
    "        \n",
    "        if (t.x == targetpos[0] and t.y == targetpos[1]):\n",
    "            path = []\n",
    "            # Restituisce il numero di passi e il percorso\n",
    "            while t:\n",
    "                path.append((t.x, t.y))\n",
    "                t = t.parent\n",
    "            return len(path) - 1, path[::-1]  # Restituisce il percorso invertito e la lunghezza\n",
    "\n",
    "        for i in range(8):\n",
    "            x, y = t.x + dx[i], t.y + dy[i]\n",
    "            if isInside(x, y, N) and not visited[x][y]:\n",
    "                visited[x][y] = True\n",
    "                queue.append(cell(x, y, t.dist + 1, t))\n",
    "\n",
    "    return None  # Se non viene trovato un percorso"
   ]
  },
  {
   "cell_type": "markdown",
   "id": "f653613c-e977-45bf-ab1a-952dac716be4",
   "metadata": {},
   "source": [
    "## 5. Fifth step:"
   ]
  },
  {
   "cell_type": "code",
   "execution_count": 19,
   "id": "dcb9989f-3466-4e2b-9c9a-d8a0ab0de8a7",
   "metadata": {
    "execution": {
     "iopub.execute_input": "2024-05-05T20:31:18.378944Z",
     "iopub.status.busy": "2024-05-05T20:31:18.378135Z",
     "iopub.status.idle": "2024-05-05T20:31:18.386029Z",
     "shell.execute_reply": "2024-05-05T20:31:18.385284Z",
     "shell.execute_reply.started": "2024-05-05T20:31:18.378912Z"
    },
    "tags": []
   },
   "outputs": [],
   "source": [
    "def is_threatened_by_bishop(x, y, bishop_pos, N):\n",
    "    if abs(bishop_pos[0] - x) == abs(bishop_pos[1] - y):\n",
    "        return True\n",
    "    return False\n",
    "\n",
    "def plot_piece(ax, position, color='black', label=\"Bishop\"):\n",
    "    \"\"\"Funzione per disegnare un pezzo sulla scacchiera.\"\"\"\n",
    "    ax.add_patch(patches.Circle((position[1], position[0]), 0.4, color=color, fill=True))\n",
    "    ax.text(position[1], position[0], label, color='white', fontsize=12, ha='center', va='center')\n",
    "\n",
    "def is_threatened_by_rook(x, y, rook_pos, N):\n",
    "    if rook_pos[0] == x or rook_pos[1] == y:\n",
    "        return True\n",
    "    return False\n",
    "\n",
    "def plot_piece(ax, position, color='black', label=\"Rook\"):\n",
    "    \"\"\"Funzione per disegnare un pezzo sulla scacchiera.\"\"\"\n",
    "    ax.add_patch(patches.Circle((position[1], position[0]), 0.4, color=color, fill=True))\n",
    "    ax.text(position[1], position[0], label, color='white', fontsize=12, ha='center', va='center')"
   ]
  },
  {
   "cell_type": "markdown",
   "id": "6c9e95ef-b93f-475f-9f5c-cf779561bbc3",
   "metadata": {},
   "source": [
    "## 6. Sixth step:"
   ]
  },
  {
   "cell_type": "code",
   "execution_count": 20,
   "id": "dc7aab66-46bd-40d6-befd-f6d70a76faee",
   "metadata": {
    "execution": {
     "iopub.execute_input": "2024-05-05T20:31:20.395701Z",
     "iopub.status.busy": "2024-05-05T20:31:20.395333Z",
     "iopub.status.idle": "2024-05-05T20:31:20.405486Z",
     "shell.execute_reply": "2024-05-05T20:31:20.404778Z",
     "shell.execute_reply.started": "2024-05-05T20:31:20.395673Z"
    }
   },
   "outputs": [],
   "source": [
    "def can_move(x, y, N, bishop_pos, rook_pos):\n",
    "    # Il cavallo può muoversi se non è in una casella minacciata, a meno che non ci sia un ostacolo da \"mangiare\"\n",
    "    if (x, y) == bishop_pos or (x, y) == rook_pos:\n",
    "        return True\n",
    "    if not is_threatened_by_bishop(x, y, bishop_pos, N) and not is_threatened_by_rook(x, y, rook_pos, N):\n",
    "        return True\n",
    "    return False\n",
    "\n",
    "def minStepToReachTarget(ax, knightpos, targetpos, N, bishop_pos, rook_pos):\n",
    "    # Codice esistente con l'aggiunta del controllo can_move nelle condizioni di movimento del cavallo\n",
    "    dx = [2, 2, -2, -2, 1, 1, -1, -1]\n",
    "    dy = [1, -1, 1, -1, 2, -2, 2, -2]\n",
    "\n",
    "    queue = deque([cell(knightpos[0], knightpos[1], 0)])\n",
    "    visited = [[False] * N for _ in range(N)]\n",
    "    visited[knightpos[0]][knightpos[1]] = True\n",
    "\n",
    "    while queue:\n",
    "        t = queue.popleft()\n",
    "        #plot_knight(ax, (t.x, t.y))\n",
    "        \n",
    "        if (t.x == targetpos[0] and t.y == targetpos[1]):\n",
    "            path = []\n",
    "            # Restituisce il numero di passi e il percorso\n",
    "            while t:\n",
    "                path.append((t.x, t.y))\n",
    "                t = t.parent\n",
    "            return len(path) - 1, path[::-1]  # Restituisce il percorso invertito e la lunghezza\n",
    "        for i in range(8):\n",
    "            x, y = t.x + dx[i], t.y + dy[i]\n",
    "            if 0 <= x < N and 0 <= y < N and not visited[x][y] and can_move(x, y, N, bishop_pos, rook_pos):\n",
    "                visited[x][y] = True\n",
    "                queue.append(cell(x, y, t.dist + 1, t))"
   ]
  },
  {
   "cell_type": "markdown",
   "id": "a6d9b075-8ea7-49cb-960f-5c338bdddf7c",
   "metadata": {},
   "source": [
    "## 7. Seventh step:"
   ]
  },
  {
   "cell_type": "code",
   "execution_count": 21,
   "id": "cbad8f6b-5b06-4120-8504-d4af79d25b0f",
   "metadata": {
    "execution": {
     "iopub.execute_input": "2024-05-05T20:31:23.282708Z",
     "iopub.status.busy": "2024-05-05T20:31:23.282102Z",
     "iopub.status.idle": "2024-05-05T20:31:23.340751Z",
     "shell.execute_reply": "2024-05-05T20:31:23.340182Z",
     "shell.execute_reply.started": "2024-05-05T20:31:23.282679Z"
    },
    "tags": []
   },
   "outputs": [
    {
     "data": {
      "image/png": "[encoded data removed]",
      "text/plain": [
       "<Figure size 432x288 with 1 Axes>"
      ]
     },
     "metadata": {},
     "output_type": "display_data"
    },
    {
     "name": "stdout",
     "output_type": "stream",
     "text": [
      "Minimum steps required: 5\n"
     ]
    }
   ],
   "source": [
    "N = 10\n",
    "knightpos = [0, 1]\n",
    "targetpos = [7, 9]\n",
    "bishop_pos = (5, 4)\n",
    "rook_pos = (3, 7)\n",
    "board = create_chessboard(N)\n",
    "\n",
    "fig, ax = plt.subplots()\n",
    "plot_chessboard(ax, board)\n",
    "plot_piece(ax, bishop_pos, 'purple', 'B')  # Visualizza l'alfiere\n",
    "plot_piece(ax, rook_pos, 'orange', 'R')  # Visualizza la torre\n",
    "steps, path = minStepToReachTarget(ax, knightpos, targetpos, N, bishop_pos, rook_pos)\n",
    "draw_path(ax, path)\n",
    "plt.show()\n",
    "\n",
    "print(f\"Minimum steps required: {steps}\")"
   ]
  },
  {
   "cell_type": "code",
   "execution_count": null,
   "id": "97af1051-2ed5-4e67-ab76-f93553d4ba55",
   "metadata": {},
   "outputs": [],
   "source": []
  }
 ],
 "metadata": {
  "kernelspec": {
   "display_name": "Python 3 (ipykernel)",
   "language": "python",
   "name": "python3"
  },
  "language_info": {
   "codemirror_mode": {
    "name": "ipython",
    "version": 3
   },
   "file_extension": ".py",
   "mimetype": "text/x-python",
   "name": "python",
   "nbconvert_exporter": "python",
   "pygments_lexer": "ipython3",
   "version": "3.8.13"
  }
 },
 "nbformat": 4,
 "nbformat_minor": 5
}
