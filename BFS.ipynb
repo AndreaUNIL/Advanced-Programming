{
 "cells": [
  {
   "cell_type": "markdown",
   "id": "91cf346b-25cf-4e72-82ef-21b2a8aa4b5e",
   "metadata": {},
   "source": [
    "# <u>Project Design:</u>"
   ]
  },
  {
   "cell_type": "markdown",
   "id": "76784d99-fd6d-4c64-a69b-b4fb44856e58",
   "metadata": {},
   "source": [
    "## Proposal:\n",
    "\n",
    "You have an entity that can move on a grid of size nxm, with the following moves allowed (one step at a time horizontally/vertically), and there are preset obstacles on the grid. The pre-set obstacles are chess pieces that will prevent the entity from moving to reach its goal. For example a bishop covering a diagonal and if the entity passes a square covered by the bishop's line it is eaten. The obstacle can be eaten by the entity if it is in its path. The task is to find the optimal and shortest path to a point B from a point A an algorithm called Breadth First Search BFS.\n"
   ]
  },
  {
   "cell_type": "markdown",
   "id": "a9bfcf58-9c93-4a40-aafc-0d74255e294e",
   "metadata": {},
   "source": [
    "## Define the steps of the project\n",
    "\n",
    "**1.** Define the work's plan (chessboard)  \n",
    "**2.** Define the mobile object and his moves  \n",
    "**3.** Add a start and an end points that changes every time I run the code  \n",
    "**4.** Build a function that caluculate the shortest path with only horizontal and vertical moves.  \n",
    "**5.** Add two obstacles (like other chess's pieces) and their moves  \n",
    "**6.** Modify the function for the shortest path and add to avoid the areas covered by the two obstacles  \n",
    "**7.** Add a visualization of the game  "
   ]
  },
  {
   "cell_type": "markdown",
   "id": "80368391-e10e-421b-8265-eeaf18cb9d8d",
   "metadata": {},
   "source": [
    "# <u>Code Part:</u>"
   ]
  },
  {
   "cell_type": "code",
   "execution_count": 1,
   "id": "77160144-027f-49ad-a911-62e1a8d8879e",
   "metadata": {
    "execution": {
     "iopub.execute_input": "2024-05-08T20:41:57.893355Z",
     "iopub.status.busy": "2024-05-08T20:41:57.892913Z",
     "iopub.status.idle": "2024-05-08T20:41:58.969366Z",
     "shell.execute_reply": "2024-05-08T20:41:58.968854Z",
     "shell.execute_reply.started": "2024-05-08T20:41:57.893272Z"
    },
    "tags": []
   },
   "outputs": [],
   "source": [
    "# Import all the necessary packages:\n",
    "\n",
    "import numpy as np\n",
    "import matplotlib.pyplot as plt\n",
    "import matplotlib.patches as patches\n",
    "#import pygame # Import Pygame to create an interactive graphical interface, if you choose to make the game visually dynamic\n",
    "import scipy\n",
    "from scipy.stats import norm\n",
    "import random\n",
    "import pandas as pd\n",
    "from PIL import Image\n",
    "from collections import deque"
   ]
  },
  {
   "cell_type": "markdown",
   "id": "c56658f5-0292-493d-9c86-59366e04cc17",
   "metadata": {},
   "source": [
    "## 1/2. First and second steps:"
   ]
  },
  {
   "cell_type": "code",
   "execution_count": 2,
   "id": "674c545f-1afc-46a3-b262-3a85c5132b06",
   "metadata": {
    "execution": {
     "iopub.execute_input": "2024-05-08T20:41:58.970401Z",
     "iopub.status.busy": "2024-05-08T20:41:58.970255Z",
     "iopub.status.idle": "2024-05-08T20:41:58.976641Z",
     "shell.execute_reply": "2024-05-08T20:41:58.976045Z",
     "shell.execute_reply.started": "2024-05-08T20:41:58.970382Z"
    },
    "tags": []
   },
   "outputs": [],
   "source": [
    "# Create the chessboard\n",
    "\n",
    "class cell:\n",
    "    def __init__(self, x=0, y=0, dist=0, parent=None):\n",
    "        self.x = x\n",
    "        self.y = y\n",
    "        self.dist = dist\n",
    "        self.parent = parent\n",
    "\n",
    "def create_chessboard(N):\n",
    "    base_row = np.tile([1, 0], (N + 1) // 2)[:N]\n",
    "    board = np.tile(base_row, (N, 1))\n",
    "    for i in range(N):\n",
    "        if i % 2 != 0:\n",
    "            board[i] = np.roll(board[i], 1)\n",
    "    return board\n",
    "\n",
    "def plot_chessboard(ax, board):\n",
    "    ax.imshow(board, cmap='gray', interpolation='nearest')\n",
    "    ax.set_xticks([])\n",
    "    ax.set_yticks([])\n",
    "\n",
    "# 2. Create the knight:\n",
    "\n",
    "def plot_knight(ax, position):\n",
    "    ax.add_patch(patches.Circle((position[1], position[0]), 0.5, color='red', fill=True))\n",
    "\n",
    "def isInside(x, y, N):\n",
    "    return 0 <= x < N and 0 <= y < N"
   ]
  },
  {
   "cell_type": "markdown",
   "id": "a1138574-f77d-472f-a41c-81605a6a5960",
   "metadata": {},
   "source": [
    "## 3. Third step:"
   ]
  },
  {
   "cell_type": "code",
   "execution_count": 3,
   "id": "8f80785e-da20-4f2e-b71c-caf83f559bbb",
   "metadata": {
    "execution": {
     "iopub.execute_input": "2024-05-08T20:41:59.892076Z",
     "iopub.status.busy": "2024-05-08T20:41:59.891579Z",
     "iopub.status.idle": "2024-05-08T20:41:59.896709Z",
     "shell.execute_reply": "2024-05-08T20:41:59.896161Z",
     "shell.execute_reply.started": "2024-05-08T20:41:59.892047Z"
    },
    "tags": []
   },
   "outputs": [],
   "source": [
    "# Add a start and an end points with a red line for the shortest path:\n",
    "\n",
    "def draw_path(ax, path):\n",
    "    x_coords = [p[1] for p in path]\n",
    "    y_coords = [p[0] for p in path]\n",
    "    ax.plot(x_coords, y_coords, 'r-', linewidth=2)  # Red line for the path\n",
    "    start = patches.Rectangle((x_coords[0] - 0.5, y_coords[0] - 0.5), 1, 1, color='green', fill=False, linewidth=3)\n",
    "    ax.add_patch(start)\n",
    "    end = patches.Rectangle((x_coords[-1] - 0.5, y_coords[-1] - 0.5), 1, 1, color='blue', fill=False, linewidth=3)\n",
    "    ax.add_patch(end)"
   ]
  },
  {
   "cell_type": "markdown",
   "id": "fd21d449-cc09-44cd-be36-828a44b144b8",
   "metadata": {},
   "source": [
    "## 4. Fourth step:"
   ]
  },
  {
   "cell_type": "code",
   "execution_count": 4,
   "id": "c70f03e6-1184-4b05-877f-12c7d4805c68",
   "metadata": {
    "execution": {
     "iopub.execute_input": "2024-05-08T20:42:00.363839Z",
     "iopub.status.busy": "2024-05-08T20:42:00.363176Z",
     "iopub.status.idle": "2024-05-08T20:42:00.372183Z",
     "shell.execute_reply": "2024-05-08T20:42:00.371527Z",
     "shell.execute_reply.started": "2024-05-08T20:42:00.363809Z"
    },
    "tags": []
   },
   "outputs": [],
   "source": [
    "def minStepToReachTarget(ax, knightpos, targetpos, N):\n",
    "    dx = [2, 2, -2, -2, 1, 1, -1, -1]\n",
    "    dy = [1, -1, 1, -1, 2, -2, 2, -2]\n",
    "\n",
    "    queue = deque([cell(knightpos[0], knightpos[1], 0)])\n",
    "    visited = [[False] * N for _ in range(N)]\n",
    "    visited[knightpos[0]][knightpos[1]] = True\n",
    "\n",
    "    while queue:\n",
    "        t = queue.popleft()\n",
    "        #plot_knight(ax, (t.x, t.y))\n",
    "        \n",
    "        if (t.x == targetpos[0] and t.y == targetpos[1]):\n",
    "            path = []\n",
    "            # Restituisce il numero di passi e il percorso\n",
    "            while t:\n",
    "                path.append((t.x, t.y))\n",
    "                t = t.parent\n",
    "            return len(path) - 1, path[::-1]  # Restituisce il percorso invertito e la lunghezza\n",
    "\n",
    "        for i in range(8):\n",
    "            x, y = t.x + dx[i], t.y + dy[i]\n",
    "            if isInside(x, y, N) and not visited[x][y]:\n",
    "                visited[x][y] = True\n",
    "                queue.append(cell(x, y, t.dist + 1, t))\n",
    "\n",
    "    return None  # Se non viene trovato un percorso"
   ]
  },
  {
   "cell_type": "markdown",
   "id": "f653613c-e977-45bf-ab1a-952dac716be4",
   "metadata": {},
   "source": [
    "## 5. Fifth step:"
   ]
  },
  {
   "cell_type": "code",
   "execution_count": 5,
   "id": "dcb9989f-3466-4e2b-9c9a-d8a0ab0de8a7",
   "metadata": {
    "execution": {
     "iopub.execute_input": "2024-05-08T20:42:00.843762Z",
     "iopub.status.busy": "2024-05-08T20:42:00.843161Z",
     "iopub.status.idle": "2024-05-08T20:42:00.850440Z",
     "shell.execute_reply": "2024-05-08T20:42:00.850010Z",
     "shell.execute_reply.started": "2024-05-08T20:42:00.843731Z"
    },
    "tags": []
   },
   "outputs": [],
   "source": [
    "def is_threatened_by_bishop(x, y, bishop_pos, N):\n",
    "    if abs(bishop_pos[0] - x) == abs(bishop_pos[1] - y):\n",
    "        return True\n",
    "    return False\n",
    "\n",
    "def plot_piece(ax, position, color='black', label=\"Bishop\"):\n",
    "    \"\"\"Funzione per disegnare un pezzo sulla scacchiera.\"\"\"\n",
    "    ax.add_patch(patches.Circle((position[1], position[0]), 0.4, color=color, fill=True))\n",
    "    ax.text(position[1], position[0], label, color='white', fontsize=12, ha='center', va='center')\n",
    "\n",
    "def is_threatened_by_rook(x, y, rook_pos, N):\n",
    "    if rook_pos[0] == x or rook_pos[1] == y:\n",
    "        return True\n",
    "    return False\n",
    "\n",
    "def plot_piece(ax, position, color='black', label=\"Rook\"):\n",
    "    \"\"\"Funzione per disegnare un pezzo sulla scacchiera.\"\"\"\n",
    "    ax.add_patch(patches.Circle((position[1], position[0]), 0.4, color=color, fill=True))\n",
    "    ax.text(position[1], position[0], label, color='white', fontsize=12, ha='center', va='center')"
   ]
  },
  {
   "cell_type": "markdown",
   "id": "6c9e95ef-b93f-475f-9f5c-cf779561bbc3",
   "metadata": {},
   "source": [
    "## 6. Sixth step:"
   ]
  },
  {
   "cell_type": "code",
   "execution_count": 6,
   "id": "dc7aab66-46bd-40d6-befd-f6d70a76faee",
   "metadata": {
    "execution": {
     "iopub.execute_input": "2024-05-08T20:42:01.495551Z",
     "iopub.status.busy": "2024-05-08T20:42:01.494927Z",
     "iopub.status.idle": "2024-05-08T20:42:01.503929Z",
     "shell.execute_reply": "2024-05-08T20:42:01.503458Z",
     "shell.execute_reply.started": "2024-05-08T20:42:01.495521Z"
    },
    "tags": []
   },
   "outputs": [],
   "source": [
    "def can_move(x, y, N, bishop_pos, rook_pos):\n",
    "    # Il cavallo può muoversi se non è in una casella minacciata, a meno che non ci sia un ostacolo da \"mangiare\"\n",
    "    if (x, y) == bishop_pos or (x, y) == rook_pos:\n",
    "        return True\n",
    "    if not is_threatened_by_bishop(x, y, bishop_pos, N) and not is_threatened_by_rook(x, y, rook_pos, N):\n",
    "        return True\n",
    "    return False\n",
    "\n",
    "def minStepToReachTarget(ax, knightpos, targetpos, N, bishop_pos, rook_pos):\n",
    "    # Codice esistente con l'aggiunta del controllo can_move nelle condizioni di movimento del cavallo\n",
    "    dx = [2, 2, -2, -2, 1, 1, -1, -1]\n",
    "    dy = [1, -1, 1, -1, 2, -2, 2, -2]\n",
    "\n",
    "    queue = deque([cell(knightpos[0], knightpos[1], 0)])\n",
    "    visited = [[False] * N for _ in range(N)]\n",
    "    visited[knightpos[0]][knightpos[1]] = True\n",
    "\n",
    "    while queue:\n",
    "        t = queue.popleft()\n",
    "        #plot_knight(ax, (t.x, t.y))\n",
    "        \n",
    "        if (t.x == targetpos[0] and t.y == targetpos[1]):\n",
    "            path = []\n",
    "            # Restituisce il numero di passi e il percorso\n",
    "            while t:\n",
    "                path.append((t.x, t.y))\n",
    "                t = t.parent\n",
    "            return len(path) - 1, path[::-1]  # Restituisce il percorso invertito e la lunghezza\n",
    "        for i in range(8):\n",
    "            x, y = t.x + dx[i], t.y + dy[i]\n",
    "            if 0 <= x < N and 0 <= y < N and not visited[x][y] and can_move(x, y, N, bishop_pos, rook_pos):\n",
    "                visited[x][y] = True\n",
    "                queue.append(cell(x, y, t.dist + 1, t))"
   ]
  },
  {
   "cell_type": "markdown",
   "id": "a6d9b075-8ea7-49cb-960f-5c338bdddf7c",
   "metadata": {},
   "source": [
    "## 7. Seventh step:"
   ]
  },
  {
   "cell_type": "code",
   "execution_count": 7,
   "id": "cbad8f6b-5b06-4120-8504-d4af79d25b0f",
   "metadata": {
    "execution": {
     "iopub.execute_input": "2024-05-08T20:42:02.154829Z",
     "iopub.status.busy": "2024-05-08T20:42:02.154348Z",
     "iopub.status.idle": "2024-05-08T20:42:02.223394Z",
     "shell.execute_reply": "2024-05-08T20:42:02.222805Z",
     "shell.execute_reply.started": "2024-05-08T20:42:02.154802Z"
    },
    "tags": []
   },
   "outputs": [
    {
     "data": {
      "image/png": "[encoded data removed]",
      "text/plain": [
       "<Figure size 432x288 with 1 Axes>"
      ]
     },
     "metadata": {},
     "output_type": "display_data"
    },
    {
     "name": "stdout",
     "output_type": "stream",
     "text": [
      "Minimum steps required: 7\n"
     ]
    }
   ],
   "source": [
    "N = 10\n",
    "knightpos = [0, 1]\n",
    "targetpos = [8, 8]\n",
    "bishop_pos = (5, 4)\n",
    "rook_pos = (3, 7)\n",
    "board = create_chessboard(N)\n",
    "\n",
    "fig, ax = plt.subplots()\n",
    "plot_chessboard(ax, board)\n",
    "plot_piece(ax, bishop_pos, 'purple', 'B')  # Visualizza l'alfiere\n",
    "plot_piece(ax, rook_pos, 'orange', 'R')  # Visualizza la torre\n",
    "steps, path = minStepToReachTarget(ax, knightpos, targetpos, N, bishop_pos, rook_pos)\n",
    "draw_path(ax, path)\n",
    "plt.show()\n",
    "\n",
    "print(f\"Minimum steps required: {steps}\")"
   ]
  },
  {
   "cell_type": "code",
   "execution_count": 2,
   "id": "97af1051-2ed5-4e67-ab76-f93553d4ba55",
   "metadata": {
    "execution": {
     "iopub.execute_input": "2024-05-09T09:53:12.801700Z",
     "iopub.status.busy": "2024-05-09T09:53:12.801316Z",
     "iopub.status.idle": "2024-05-09T09:53:13.041822Z",
     "shell.execute_reply": "2024-05-09T09:53:13.041266Z",
     "shell.execute_reply.started": "2024-05-09T09:53:12.801671Z"
    },
    "tags": []
   },
   "outputs": [
    {
     "name": "stdout",
     "output_type": "stream",
     "text": [
      "Minimum steps required: 11\n"
     ]
    },
    {
     "data": {
      "image/png": "[encoded data removed]",
      "text/plain": [
       "<Figure size 432x288 with 1 Axes>"
      ]
     },
     "metadata": {},
     "output_type": "display_data"
    }
   ],
   "source": [
    "import numpy as np\n",
    "import matplotlib.pyplot as plt\n",
    "import matplotlib.patches as patches\n",
    "from collections import deque\n",
    "import math\n",
    "\n",
    "class Cell:\n",
    "    def __init__(self, x=0, y=0, dist=0, parent=None):\n",
    "        self.x = x\n",
    "        self.y = y\n",
    "        self.dist = dist\n",
    "        self.parent = parent\n",
    "\n",
    "def create_chessboard(N):\n",
    "    base_row = np.tile([1, 0], (N + 1) // 2)[:N]\n",
    "    board = np.tile(base_row, (N, 1))\n",
    "    for i in range(N):\n",
    "        if i % 2 != 0:\n",
    "            board[i] = np.roll(board[i], 1)\n",
    "    return board\n",
    "\n",
    "def plot_chessboard(ax, board):\n",
    "    ax.imshow(board, cmap='gray', interpolation='nearest')\n",
    "    ax.set_xticks([])\n",
    "    ax.set_yticks([])\n",
    "\n",
    "def plot_piece(ax, position, color, label):\n",
    "    ax.add_patch(patches.Circle((position[1], position[0]), 0.4, color=color, fill=True))\n",
    "    ax.text(position[1], position[0], label, color='white', fontsize=12, ha='center', va='center')\n",
    "\n",
    "def plot_square(ax, position, color, linewidth):\n",
    "    ax.add_patch(patches.Rectangle((position[1] - 0.5, position[0] - 0.5), 1, 1, edgecolor=color, facecolor='none', lw=linewidth))\n",
    "\n",
    "def is_inside(x, y, N):\n",
    "    return 0 <= x < N and 0 <= y < N\n",
    "\n",
    "def is_threatened_by_bishop(x, y, bishopRow, bishopCol):\n",
    "    return abs(x - bishopRow) == abs(y - bishopCol)\n",
    "\n",
    "def is_threatened_by_rook(x, y, rookRow, rookCol):\n",
    "    return x == rookRow or y == rookCol\n",
    "\n",
    "def is_target_blocked(endRow, endCol, bishopRow, bishopCol, rookRow, rookCol):\n",
    "    return is_threatened_by_bishop(endRow, endCol, bishopRow, bishopCol) or is_threatened_by_rook(endRow, endCol, rookRow, rookCol)\n",
    "\n",
    "def find_path(n, startRow, startCol, targetRow, targetCol, bishopRow, bishopCol, rookRow, rookCol, avoid_threats=True):\n",
    "    moves = [(2, 1), (1, 2), (-1, 2), (-2, 1), (-2, -1), (-1, -2), (1, -2), (2, -1)]\n",
    "    visited = set()\n",
    "    queue = deque([Cell(startRow, startCol, 0)])\n",
    "    visited.add((startRow, startCol))\n",
    "\n",
    "    while queue:\n",
    "        t = queue.popleft()\n",
    "        tx, ty = t.x, t.y\n",
    "\n",
    "        if tx == targetRow and ty == targetCol:\n",
    "            path = []\n",
    "            while t:\n",
    "                path.append((t.x, t.y))\n",
    "                t = t.parent\n",
    "            return path[::-1]\n",
    "\n",
    "        for di, dj in moves:\n",
    "            cr, cc = tx + di, ty + dj\n",
    "            if not is_inside(cr, cc, n) or (cr, cc) in visited:\n",
    "                continue\n",
    "\n",
    "            if avoid_threats and (is_threatened_by_bishop(cr, cc, bishopRow, bishopCol) or is_threatened_by_rook(cr, cc, rookRow, rookCol)):\n",
    "                continue\n",
    "\n",
    "            visited.add((cr, cc))\n",
    "            queue.append(Cell(cr, cc, t.dist + 1, t))\n",
    "\n",
    "    return None\n",
    "\n",
    "def capture_obstacle(n, startRow, startCol, bishopRow, bishopCol, rookRow, rookCol):\n",
    "    if is_inside(bishopRow, bishopCol, n):\n",
    "        path_to_bishop = find_path(n, startRow, startCol, bishopRow, bishopCol, bishopRow, bishopCol, rookRow, rookCol, avoid_threats=False)\n",
    "        if path_to_bishop:\n",
    "            return path_to_bishop, 'bishop'\n",
    "    if is_inside(rookRow, rookCol, n):\n",
    "        path_to_rook = find_path(n, startRow, startCol, rookRow, rookCol, bishopRow, bishopCol, rookRow, rookCol, avoid_threats=False)\n",
    "        if path_to_rook:\n",
    "            return path_to_rook, 'rook'\n",
    "    return None, None\n",
    "\n",
    "def moves(n, startRow, startCol, endRow, endCol, bishopRow, bishopCol, rookRow, rookCol):\n",
    "    full_path = []\n",
    "\n",
    "    while is_target_blocked(endRow, endCol, bishopRow, bishopCol, rookRow, rookCol):\n",
    "        path_to_obstacle, obstacle_type = capture_obstacle(n, startRow, startCol, bishopRow, bishopCol, rookRow, rookCol)\n",
    "        if not path_to_obstacle:\n",
    "            return -1, None\n",
    "        full_path.extend(path_to_obstacle)\n",
    "        if obstacle_type == 'bishop':\n",
    "            bishopRow, bishopCol = -1, -1  # Mark bishop as captured\n",
    "        elif obstacle_type == 'rook':\n",
    "            rookRow, rookCol = -1, -1  # Mark rook as captured\n",
    "        startRow, startCol = full_path[-1]\n",
    "\n",
    "    path_to_target = find_path(n, startRow, startCol, endRow, endCol, bishopRow, bishopCol, rookRow, rookCol)\n",
    "    if path_to_target:\n",
    "        full_path.extend(path_to_target)\n",
    "        return len(full_path) - 1, full_path\n",
    "    else:\n",
    "        return -1, None\n",
    "\n",
    "def plot_threatened_squares(ax, n, bishopRow, bishopCol, rookRow, rookCol):\n",
    "    if bishopRow < n and bishopCol < n:\n",
    "        for i in range(n):\n",
    "            for j in range(n):\n",
    "                if abs(bishopRow - i) == abs(bishopCol - j) and (i != bishopRow or j != bishopCol):\n",
    "                    ax.add_patch(patches.Circle((j, i), 0.2, color='purple', fill=True, alpha=0.5))\n",
    "\n",
    "    if rookRow < n and rookCol < n:\n",
    "        for i in range(n):\n",
    "            if i != rookRow:\n",
    "                ax.add_patch(patches.Circle((rookCol, i), 0.2, color='orange', fill=True, alpha=0.5))\n",
    "            if i != rookCol:\n",
    "                ax.add_patch(patches.Circle((i, rookRow), 0.2, color='orange', fill=True, alpha=0.5))\n",
    "\n",
    "def draw_path(ax, path):\n",
    "    for (i, j) in path:\n",
    "        ax.add_patch(patches.Circle((j, i), 0.2, color='red', fill=True, alpha=0.7))\n",
    "    for k in range(len(path) - 1):\n",
    "        (i1, j1), (i2, j2) = path[k], path[k + 1]\n",
    "        ax.plot([j1, j2], [i1, i2], color='red', linewidth=2)\n",
    "\n",
    "# Configurazione e visualizzazione della scacchiera e dei pezzi\n",
    "N = 10\n",
    "startRow, startCol = 0, 1\n",
    "endRow, endCol = 5, 7\n",
    "bishopRow, bishopCol = 5, 4\n",
    "rookRow, rookCol = 3, 7\n",
    "\n",
    "board = create_chessboard(N)\n",
    "fig, ax = plt.subplots()\n",
    "plot_chessboard(ax, board)\n",
    "plot_square(ax, (startRow, startCol), 'green', 3)\n",
    "plot_square(ax, (endRow, endCol), 'blue', 3)\n",
    "plot_piece(ax, (startRow, startCol), 'red', 'K')\n",
    "plot_piece(ax, (bishopRow, bishopCol), 'purple', 'B')\n",
    "plot_piece(ax, (rookRow, rookCol), 'orange', 'R')\n",
    "plot_piece(ax, (endRow, endCol), 'red', 'K')\n",
    "plot_threatened_squares(ax, N, bishopRow, bishopCol, rookRow, rookCol)\n",
    "\n",
    "result = moves(N, startRow, startCol, endRow, endCol, bishopRow, bishopCol, rookRow, rookCol)\n",
    "if result != -1:\n",
    "    steps, path = result\n",
    "    draw_path(ax, path)\n",
    "    print(f\"Minimum steps required: {steps}\")\n",
    "else:\n",
    "    print(\"No path found to reach the target.\")\n",
    "\n",
    "plt.show()\n"
   ]
  },
  {
   "cell_type": "code",
   "execution_count": null,
   "id": "9ca1c85e-06b2-48e1-b46d-934032209acb",
   "metadata": {},
   "outputs": [],
   "source": []
  }
 ],
 "metadata": {
  "kernelspec": {
   "display_name": "Python 3 (ipykernel)",
   "language": "python",
   "name": "python3"
  },
  "language_info": {
   "codemirror_mode": {
    "name": "ipython",
    "version": 3
   },
   "file_extension": ".py",
   "mimetype": "text/x-python",
   "name": "python",
   "nbconvert_exporter": "python",
   "pygments_lexer": "ipython3",
   "version": "3.8.13"
  }
 },
 "nbformat": 4,
 "nbformat_minor": 5
}
