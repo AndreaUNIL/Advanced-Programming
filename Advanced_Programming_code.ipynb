{
 "cells": [
  {
   "cell_type": "markdown",
   "id": "83a7ce95-d37c-4d4e-a79d-ebe8ebbf6a89",
   "metadata": {
    "tags": []
   },
   "source": [
    "# Project of Advanced Programming\n",
    "\n",
    "In the following document you will find all the codes used for this project and their respective outputs."
   ]
  },
  {
   "cell_type": "markdown",
   "id": "6b455ced-8d19-4d35-8b8b-36606b4c89d9",
   "metadata": {
    "tags": []
   },
   "source": [
    "# Setup functions"
   ]
  },
  {
   "cell_type": "code",
   "execution_count": 1,
   "id": "66503785-ba01-46ee-aed2-46c2c9b9c818",
   "metadata": {
    "execution": {
     "iopub.execute_input": "2024-05-25T17:30:05.263707Z",
     "iopub.status.busy": "2024-05-25T17:30:05.263515Z",
     "iopub.status.idle": "2024-05-25T17:30:05.893524Z",
     "shell.execute_reply": "2024-05-25T17:30:05.893000Z",
     "shell.execute_reply.started": "2024-05-25T17:30:05.263649Z"
    },
    "tags": []
   },
   "outputs": [],
   "source": [
    "# Install necessary packages\n",
    "import numpy as np\n",
    "import matplotlib.pyplot as plt\n",
    "import matplotlib.patches as patches\n",
    "from collections import deque\n",
    "import heapq\n",
    "import math\n",
    "\n",
    "class Cell:\n",
    "    def __init__(self, x=0, y=0, dist=0, parent=None, alive_bishop=True, alive_rook=True):\n",
    "        self.x = x\n",
    "        self.y = y\n",
    "        self.dist = dist\n",
    "        self.parent = parent\n",
    "        self.alive_bishop = alive_bishop\n",
    "        self.alive_rook = alive_rook\n",
    "    \n",
    "    def __lt__(self, other):\n",
    "        return self.dist < other.dist\n",
    "\n",
    "def Chessboard(n):\n",
    "    base_row = np.tile([1, 0], (n + 1) // 2)[:n]\n",
    "    board = np.tile(base_row, (n, 1))\n",
    "    for i in range(n):\n",
    "        if i % 2 != 0:\n",
    "            board[i] = np.roll(board[i], 1)\n",
    "    return board\n",
    "\n",
    "def plot_chessboard(ax, board):\n",
    "    ax.imshow(board, cmap='gray', interpolation='nearest')\n",
    "    ax.set_xticks([])\n",
    "    ax.set_yticks([])\n",
    "\n",
    "def plot_piece(ax, position, color, label):\n",
    "    ax.add_patch(patches.Circle((position[1], position[0]), 0.4, color=color, fill=True))\n",
    "    ax.text(position[1], position[0], label, color='white', fontsize=12, ha='center', va='center')\n",
    "\n",
    "def plot_square(ax, position, color, linewidth):\n",
    "    ax.add_patch(patches.Rectangle((position[1] - 0.5, position[0] - 0.5), 1, 1, edgecolor=color, facecolor='none', lw=linewidth))\n",
    "\n",
    "def plot_threatened_squares(ax, n, bishopRow, bishopCol, rookRow, rookCol):\n",
    "    if bishopRow < n and bishopCol < n:\n",
    "        for i in range(n):\n",
    "            for j in range(n):\n",
    "                if abs(bishopRow - i) == abs(bishopCol - j) and (i != bishopRow or j != bishopCol):\n",
    "                    ax.add_patch(patches.Circle((j, i), 0.2, color='purple', fill=True, alpha=0.5))\n",
    "\n",
    "    if rookRow < n and rookCol < n:\n",
    "        for i in range(n):\n",
    "            if i != rookRow:\n",
    "                ax.add_patch(patches.Circle((rookCol, i), 0.2, color='orange', fill=True, alpha=0.5))\n",
    "            if i != rookCol:\n",
    "                ax.add_patch(patches.Circle((i, rookRow), 0.2, color='orange', fill=True, alpha=0.5))    \n",
    "    \n",
    "def is_inside(x, y, n):\n",
    "    return 0 <= x < n and 0 <= y < n\n",
    "\n",
    "def isBishopAlive(n, bishopRow, bishopCol):\n",
    "    if bishopRow < n and bishopCol < n:\n",
    "        return True\n",
    "    else:\n",
    "        return False\n",
    "    \n",
    "def isRookAlive(n, rookRow, rookCol):\n",
    "    if rookRow < n and rookCol < n:\n",
    "        return True\n",
    "    else:\n",
    "        return False\n",
    "    \n",
    "def draw_path(ax, path):\n",
    "    for (i, j) in path:\n",
    "        ax.add_patch(patches.Circle((j, i), 0.3, color='red', fill=True, alpha=0.7))\n",
    "    for k in range(len(path) - 1):\n",
    "        (i1, j1), (i2, j2) = path[k], path[k + 1]\n",
    "        ax.plot([j1, j2], [i1, i2], color='red', linewidth=2)"
   ]
  },
  {
   "cell_type": "markdown",
   "id": "bf145cf7-ef96-413a-8e47-cd403d29e52d",
   "metadata": {
    "tags": []
   },
   "source": [
    "# BFS"
   ]
  },
  {
   "cell_type": "code",
   "execution_count": 2,
   "id": "b56259b5-1691-4c31-8830-78367a5ff0d8",
   "metadata": {
    "execution": {
     "iopub.execute_input": "2024-05-25T17:30:05.894503Z",
     "iopub.status.busy": "2024-05-25T17:30:05.894346Z",
     "iopub.status.idle": "2024-05-25T17:30:06.105787Z",
     "shell.execute_reply": "2024-05-25T17:30:06.105287Z",
     "shell.execute_reply.started": "2024-05-25T17:30:05.894486Z"
    },
    "tags": []
   },
   "outputs": [
    {
     "name": "stdout",
     "output_type": "stream",
     "text": [
      "Minimum steps required: 9\n",
      "Coordinate of the path: [(0, 0), (2, 1), (1, 3), (3, 2), (5, 3), (6, 5), (7, 7), (8, 5), (6, 4), (5, 2)]\n"
     ]
    },
    {
     "data": {
      "image/png": "[encoded data removed]",
      "text/plain": [
       "<Figure size 432x288 with 1 Axes>"
      ]
     },
     "metadata": {},
     "output_type": "display_data"
    }
   ],
   "source": [
    "def moves(n, startRow, startCol, endRow, endCol, bishopRow, bishopCol, rookRow, rookCol):\n",
    "    if startRow == endRow and startCol == endCol:  # Caso banale\n",
    "        return 0, [(startRow, startCol)]\n",
    "    \n",
    "    moves = ((2,1), (1,2), (-1,2), (-2,1), (-2,-1), (-1,-2), (1,-2), (2,-1))\n",
    "    queue = deque()\n",
    "    queue.append([startRow, startCol, True, True, 0, [(startRow, startCol)]])  # Includere che il vescovo è vivo\n",
    "    visited = set([(startRow, startCol, True, True)])  # Impostare come visitato\n",
    "    \n",
    "    while queue:\n",
    "        i, j, alive_bishop, alive_rook, steps, path = queue.popleft()        \n",
    "        for di, dj in moves:\n",
    "            cr = i + di\n",
    "            cc = j + dj\n",
    "            \n",
    "            # Update life status only for the current path\n",
    "            stillalive_bishop = alive_bishop and (cr != bishopRow or cc != bishopCol)\n",
    "            stillalive_rook = alive_rook and (cr != rookRow or cc != rookCol)\n",
    "            \n",
    "            if 0 <= cr < n and 0 <= cc < n and (cr, cc, stillalive_bishop, stillalive_rook) not in visited and (\n",
    "                    not stillalive_bishop or abs(cr - bishopRow) != abs(cc - bishopCol)) and (\n",
    "                    not stillalive_rook or (cr != rookRow and cc != rookCol)):\n",
    "                \n",
    "                if cr == endRow and cc == endCol:\n",
    "                    return steps + 1, path + [(cr, cc)]\n",
    "                \n",
    "                pathnew = path + [(cr, cc)]\n",
    "                queue.append((cr, cc, stillalive_bishop, stillalive_rook, steps + 1, pathnew))\n",
    "                visited.add((cr, cc, stillalive_bishop, stillalive_rook))    \n",
    "    return -1, None\n",
    "\n",
    "# Configuration and visualization of the board and pieces\n",
    "n = 10\n",
    "startRow, startCol = 0, 0\n",
    "endRow, endCol = 5, 2\n",
    "bishopRow, bishopCol = 8, 5\n",
    "rookRow, rookCol = 3, 2\n",
    "\n",
    "board = Chessboard(n)\n",
    "fig, ax = plt.subplots()\n",
    "plot_chessboard(ax, board)\n",
    "plot_square(ax, (startRow, startCol), 'green', 3)\n",
    "plot_square(ax, (endRow, endCol), 'blue', 3)\n",
    "plot_piece(ax, (startRow, startCol), 'red', 'K')\n",
    "plot_piece(ax, (bishopRow, bishopCol), 'purple', 'B')\n",
    "plot_piece(ax, (rookRow, rookCol), 'orange', 'R')\n",
    "plot_piece(ax, (endRow, endCol), 'red', 'K')\n",
    "plot_threatened_squares(ax, n, bishopRow, bishopCol, rookRow, rookCol)\n",
    "\n",
    "\n",
    "result = moves(n, startRow, startCol, endRow, endCol, bishopRow, bishopCol, rookRow, rookCol)\n",
    "if result[0] != -1:\n",
    "    steps, path = result\n",
    "    draw_path(ax, path)\n",
    "    print(f\"Minimum steps required: {steps}\")\n",
    "    print(\"Coordinate of the path:\", path)\n",
    "else:\n",
    "    print(\"No path found to reach the target.\")\n",
    "\n",
    "plt.show()"
   ]
  },
  {
   "cell_type": "markdown",
   "id": "3f3755ef-4dfa-4f35-a97e-3e8ead3aeb87",
   "metadata": {},
   "source": [
    "# DFS"
   ]
  },
  {
   "cell_type": "code",
   "execution_count": 3,
   "id": "621b2a8e-1ea7-439c-80a2-23da0aaa10db",
   "metadata": {
    "execution": {
     "iopub.execute_input": "2024-05-25T17:30:06.106888Z",
     "iopub.status.busy": "2024-05-25T17:30:06.106614Z",
     "iopub.status.idle": "2024-05-25T17:30:06.319951Z",
     "shell.execute_reply": "2024-05-25T17:30:06.319482Z",
     "shell.execute_reply.started": "2024-05-25T17:30:06.106867Z"
    },
    "tags": []
   },
   "outputs": [
    {
     "name": "stdout",
     "output_type": "stream",
     "text": [
      "Minimum steps required: 13\n",
      "Coordinate of the path: [(0, 0), (2, 1), (4, 0), (3, 2), (5, 1), (7, 0), (6, 2), (8, 1), (7, 3), (8, 5), (9, 3), (8, 1), (6, 0), (5, 2)]\n"
     ]
    },
    {
     "data": {
      "image/png": "[encoded data removed]",
      "text/plain": [
       "<Figure size 432x288 with 1 Axes>"
      ]
     },
     "metadata": {},
     "output_type": "display_data"
    }
   ],
   "source": [
    "def dfs(n, startRow, startCol, endRow, endCol, bishopRow, bishopCol, rookRow, rookCol):\n",
    "    if startRow == endRow and startCol == endCol:\n",
    "        return 0, [(startRow, startCol)]\n",
    "    \n",
    "    moves = ((2,1), (1,2), (-1,2), (-2,1), (-2,-1), (-1,-2), (1,-2), (2,-1))\n",
    "    stack = [(startRow, startCol, True, True, 0, [(startRow, startCol)])]  # Using a stack instead of a queue\n",
    "    visited = set([(startRow, startCol, True, True)])\n",
    "    \n",
    "    while stack:\n",
    "        i, j, alive_bishop, alive_rook, steps, path = stack.pop()  # Using pop for DFS        \n",
    "        for di, dj in moves:\n",
    "            cr = i + di\n",
    "            cc = j + dj\n",
    "            \n",
    "            # Update life status only for the current path\n",
    "            stillalive_bishop = alive_bishop and (cr != bishopRow or cc != bishopCol)\n",
    "            stillalive_rook = alive_rook and (cr != rookRow or cc != rookCol)\n",
    "            \n",
    "            if 0 <= cr < n and 0 <= cc < n and (cr, cc, stillalive_bishop, stillalive_rook) not in visited and (\n",
    "                    not stillalive_bishop or abs(cr - bishopRow) != abs(cc - bishopCol)) and (\n",
    "                    not stillalive_rook or (cr != rookRow and cc != rookCol)):\n",
    "                \n",
    "                if cr == endRow and cc == endCol:\n",
    "                    return steps + 1, path + [(cr, cc)]\n",
    "                \n",
    "                pathnew = path + [(cr, cc)]\n",
    "                stack.append((cr, cc, stillalive_bishop, stillalive_rook, steps + 1, pathnew))\n",
    "                visited.add((cr, cc, stillalive_bishop, stillalive_rook))    \n",
    "    return -1, None\n",
    "\n",
    "# Configuration and visualization of the board and pieces\n",
    "n = 10\n",
    "startRow, startCol = 0, 0\n",
    "endRow, endCol = 5, 2\n",
    "bishopRow, bishopCol = 8, 5\n",
    "rookRow, rookCol = 3, 2\n",
    "\n",
    "board = Chessboard(n)\n",
    "fig, ax = plt.subplots()\n",
    "plot_chessboard(ax, board)\n",
    "plot_square(ax, (startRow, startCol), 'green', 3)\n",
    "plot_square(ax, (endRow, endCol), 'blue', 3)\n",
    "plot_piece(ax, (startRow, startCol), 'red', 'K')\n",
    "plot_piece(ax, (bishopRow, bishopCol), 'purple', 'B')\n",
    "plot_piece(ax, (rookRow, rookCol), 'orange', 'R')\n",
    "plot_piece(ax, (endRow, endCol), 'red', 'K')\n",
    "plot_threatened_squares(ax, n, bishopRow, bishopCol, rookRow, rookCol)\n",
    "\n",
    "\n",
    "result = dfs(n, startRow, startCol, endRow, endCol, bishopRow, bishopCol, rookRow, rookCol)\n",
    "if result[0] != -1:\n",
    "    steps, path = result\n",
    "    draw_path(ax, path)\n",
    "    print(f\"Minimum steps required: {steps}\")\n",
    "    print(\"Coordinate of the path:\", path)\n",
    "else:\n",
    "    print(\"No path found to reach the target.\")\n",
    "\n",
    "plt.show()"
   ]
  },
  {
   "cell_type": "markdown",
   "id": "82d2c374-45ff-48e6-a9e6-f7728b25d3b7",
   "metadata": {},
   "source": [
    "# A*"
   ]
  },
  {
   "cell_type": "code",
   "execution_count": 4,
   "id": "81749f07-8353-46ed-b4d9-4885ffd4e48d",
   "metadata": {
    "execution": {
     "iopub.execute_input": "2024-05-25T17:30:06.321440Z",
     "iopub.status.busy": "2024-05-25T17:30:06.321175Z",
     "iopub.status.idle": "2024-05-25T17:30:06.557248Z",
     "shell.execute_reply": "2024-05-25T17:30:06.556645Z",
     "shell.execute_reply.started": "2024-05-25T17:30:06.321420Z"
    },
    "tags": []
   },
   "outputs": [
    {
     "name": "stdout",
     "output_type": "stream",
     "text": [
      "Minimum steps required: 9\n",
      "Coordinate of the path: [(0, 0), (2, 1), (4, 0), (3, 2), (5, 1), (4, 3), (6, 4), (8, 5), (6, 4), (5, 2)]\n"
     ]
    },
    {
     "data": {
      "image/png": "[encoded data removed]",
      "text/plain": [
       "<Figure size 432x288 with 1 Axes>"
      ]
     },
     "metadata": {},
     "output_type": "display_data"
    }
   ],
   "source": [
    "def heuristic(cell, goal):\n",
    "    return abs(cell.x - goal[0]) + abs(cell.y - goal[1])\n",
    "\n",
    "def a_star(n, startRow, startCol, endRow, endCol, bishopRow, bishopCol, rookRow, rookCol):\n",
    "    if startRow == endRow and startCol == endCol:\n",
    "        return 0, [(startRow, startCol)]\n",
    "\n",
    "    start = Cell(startRow, startCol, 0, None, True, True)\n",
    "    end = (endRow, endCol)\n",
    "    open_set = []\n",
    "    heapq.heappush(open_set, (heuristic(start, end), start))\n",
    "    visited = set([(startRow, startCol, True, True)])\n",
    "    \n",
    "    moves = ((2, 1), (1, 2), (-1, 2), (-2, 1), (-2, -1), (-1, -2), (1, -2), (2, -1))\n",
    "\n",
    "    while open_set:\n",
    "        _, current = heapq.heappop(open_set)\n",
    "        i, j = current.x, current.y\n",
    "        alive_bishop, alive_rook = current.alive_bishop, current.alive_rook\n",
    "        steps = current.dist\n",
    "        \n",
    "        if (i, j) == end:\n",
    "            path = []\n",
    "            temp = current\n",
    "            while temp:\n",
    "                path.append((temp.x, temp.y))\n",
    "                temp = temp.parent\n",
    "            return steps, path[::-1]\n",
    "\n",
    "        for di, dj in moves:\n",
    "            cr = i + di\n",
    "            cc = j + dj\n",
    "\n",
    "            stillalive_bishop = alive_bishop and (cr != bishopRow or cc != bishopCol)\n",
    "            stillalive_rook = alive_rook and (cr != rookRow or cc != rookCol)\n",
    "            \n",
    "            if 0 <= cr < n and 0 <= cc < n and (cr, cc, stillalive_bishop, stillalive_rook) not in visited and (\n",
    "                    not stillalive_bishop or abs(cr - bishopRow) != abs(cc - bishopCol)) and (\n",
    "                    not stillalive_rook or (cr != rookRow and cc != rookCol)):\n",
    "                \n",
    "                new_cell = Cell(cr, cc, steps + 1, current, stillalive_bishop, stillalive_rook)\n",
    "                heapq.heappush(open_set, (new_cell.dist + heuristic(new_cell, end), new_cell))\n",
    "                visited.add((cr, cc, stillalive_bishop, stillalive_rook))\n",
    "    return -1, None\n",
    "\n",
    "# Configuration and visualization of the board and pieces\n",
    "n = 10\n",
    "startRow, startCol = 0, 0\n",
    "endRow, endCol = 5, 2\n",
    "bishopRow, bishopCol = 8, 5\n",
    "rookRow, rookCol = 3, 2\n",
    "\n",
    "board = Chessboard(n)\n",
    "fig, ax = plt.subplots()\n",
    "plot_chessboard(ax, board)\n",
    "plot_square(ax, (startRow, startCol), 'green', 3)\n",
    "plot_square(ax, (endRow, endCol), 'blue', 3)\n",
    "plot_piece(ax, (startRow, startCol), 'red', 'K')\n",
    "plot_piece(ax, (bishopRow, bishopCol), 'purple', 'B')\n",
    "plot_piece(ax, (rookRow, rookCol), 'orange', 'R')\n",
    "plot_piece(ax, (endRow, endCol), 'red', 'K')\n",
    "plot_threatened_squares(ax, n, bishopRow, bishopCol, rookRow, rookCol)\n",
    "\n",
    "result = a_star(n, startRow, startCol, endRow, endCol, bishopRow, bishopCol, rookRow, rookCol)\n",
    "if result[0] != -1:\n",
    "    steps, path = result\n",
    "    draw_path(ax, path)\n",
    "    print(f\"Minimum steps required: {steps}\")\n",
    "    print(\"Coordinate of the path:\", path)\n",
    "else:\n",
    "    print(\"No path found to reach the target.\")\n",
    "\n",
    "plt.show()"
   ]
  },
  {
   "cell_type": "markdown",
   "id": "bd1afa96-1d62-4990-bf7d-bc8ed9053700",
   "metadata": {},
   "source": [
    "# Bidirectional Search"
   ]
  },
  {
   "cell_type": "code",
   "execution_count": 5,
   "id": "7c0fbf6a-fc43-43b2-b550-6fdfed15cbb4",
   "metadata": {
    "execution": {
     "iopub.execute_input": "2024-05-25T17:30:06.558610Z",
     "iopub.status.busy": "2024-05-25T17:30:06.558188Z",
     "iopub.status.idle": "2024-05-25T17:30:06.776886Z",
     "shell.execute_reply": "2024-05-25T17:30:06.776413Z",
     "shell.execute_reply.started": "2024-05-25T17:30:06.558587Z"
    },
    "tags": []
   },
   "outputs": [
    {
     "name": "stdout",
     "output_type": "stream",
     "text": [
      "Minimum steps required: 14\n",
      "Coordinate of the path: [(0, 0), (2, 1), (1, 3), (3, 2), (5, 3), (6, 5), (7, 7), (8, 5), (8, 5), (7, 7), (6, 5), (5, 3), (3, 2), (4, 4), (5, 2)]\n"
     ]
    },
    {
     "data": {
      "image/png": "[encoded data removed]",
      "text/plain": [
       "<Figure size 432x288 with 1 Axes>"
      ]
     },
     "metadata": {},
     "output_type": "display_data"
    }
   ],
   "source": [
    "def bidirectional_search(n, startRow, startCol, endRow, endCol, bishopRow, bishopCol, rookRow, rookCol):\n",
    "    if startRow == endRow and startCol == endCol:\n",
    "        return 0, [(startRow, startCol)]\n",
    "\n",
    "    def get_neighbors(i, j, alive_bishop, alive_rook):\n",
    "        moves = [(2, 1), (1, 2), (-2, 1), (-1, 2), (-2, -1), (-1, -2), (2, -1), (1, -2)]\n",
    "        neighbors = []\n",
    "        for di, dj in moves:\n",
    "            cr = i + di\n",
    "            cc = j + dj\n",
    "            stillalive_bishop = alive_bishop and (cr != bishopRow or cc != bishopCol)\n",
    "            stillalive_rook = alive_rook and (cr != rookRow or cc != rookCol)\n",
    "            if 0 <= cr < n and 0 <= cc < n and (\n",
    "                not stillalive_bishop or abs(cr - bishopRow) != abs(cc - bishopCol)) and (\n",
    "                not stillalive_rook or cr != rookRow and cc != rookCol):\n",
    "                neighbors.append((cr, cc, stillalive_bishop, stillalive_rook))\n",
    "        return neighbors\n",
    "\n",
    "    def bfs(queue, visited, other_visited, forward=True):\n",
    "        i, j, alive_bishop, alive_rook, steps, path = queue.popleft()\n",
    "        for neighbor in get_neighbors(i, j, alive_bishop, alive_rook):\n",
    "            if neighbor not in visited:\n",
    "                visited[neighbor] = path + [neighbor[:2]]\n",
    "                if neighbor in other_visited:\n",
    "                    other_path = other_visited[neighbor]\n",
    "                    combined_path = path + [neighbor[:2]] + other_path[::-1] if forward else other_path + [neighbor[:2]] + path[::-1]\n",
    "                    if check_obstacles(combined_path, bishopRow, bishopCol, rookRow, rookCol, endRow, endCol):\n",
    "                        return True, combined_path\n",
    "                queue.append((*neighbor, steps + 1, path + [neighbor[:2]]))\n",
    "        return False, None\n",
    "\n",
    "    start_queue = deque([(startRow, startCol, True, True, 0, [(startRow, startCol)])])\n",
    "    end_queue = deque([(endRow, endCol, True, True, 0, [(endRow, endCol)])])\n",
    "    start_visited = {(startRow, startCol, True, True): [(startRow, startCol)]}\n",
    "    end_visited = {(endRow, endCol, True, True): [(endRow, endCol)]}\n",
    "\n",
    "    while start_queue and end_queue:\n",
    "        found, path = bfs(start_queue, start_visited, end_visited, forward=True)\n",
    "        if found:\n",
    "            return len(path) - 1, path\n",
    "        found, path = bfs(end_queue, end_visited, start_visited, forward=False)\n",
    "        if found:\n",
    "            return len(path) - 1, path\n",
    "\n",
    "    return -1, None\n",
    "\n",
    "def check_obstacles(path, bishopRow, bishopCol, rookRow, rookCol, endRow, endCol):\n",
    "    bishop_alive = True\n",
    "    rook_alive = True\n",
    "    for cr, cc in path:\n",
    "        if bishop_alive and (cr == bishopRow and cc == bishopCol):\n",
    "            bishop_alive = False\n",
    "        if rook_alive and (cr == rookRow and cc == rookCol):\n",
    "            rook_alive = False\n",
    "    # Check whether it is necessary to eat obstacles to reach the goal\n",
    "    need_to_eat_bishop = any(abs(cr - bishopRow) == abs(cc - bishopCol) for cr, cc in path) and bishop_alive\n",
    "    need_to_eat_rook = any((cr == rookRow or cc == rookCol) for cr, cc in path) and rook_alive\n",
    "    # Consider obstacles only if they are alive and the goal is achieved\n",
    "    return (not need_to_eat_bishop or not bishop_alive) and (not need_to_eat_rook or not rook_alive)\n",
    "\n",
    "# Configuration and visualization of the board and pieces\n",
    "n = 10\n",
    "startRow, startCol = 0, 0\n",
    "endRow, endCol = 5, 2\n",
    "bishopRow, bishopCol = 8, 5\n",
    "rookRow, rookCol = 3, 2\n",
    "\n",
    "board = Chessboard(n)\n",
    "fig, ax = plt.subplots()\n",
    "plot_chessboard(ax, board)\n",
    "plot_square(ax, (startRow, startCol), 'green', 3)\n",
    "plot_square(ax, (endRow, endCol), 'blue', 3)\n",
    "plot_piece(ax, (startRow, startCol), 'red', 'K')\n",
    "plot_piece(ax, (bishopRow, bishopCol), 'purple', 'B')\n",
    "plot_piece(ax, (rookRow, rookCol), 'orange', 'R')\n",
    "plot_piece(ax, (endRow, endCol), 'red', 'K')\n",
    "plot_threatened_squares(ax, n, bishopRow, bishopCol, rookRow, rookCol)\n",
    "\n",
    "\n",
    "result = bidirectional_search(n, startRow, startCol, endRow, endCol, bishopRow, bishopCol, rookRow, rookCol)\n",
    "if result[0] != -1:\n",
    "    steps, path = result\n",
    "    draw_path(ax, path)\n",
    "    print(f\"Minimum steps required: {steps}\")\n",
    "    print(\"Coordinate of the path:\", path)\n",
    "else:\n",
    "    print(\"No path found to reach the target.\")\n",
    "\n",
    "plt.show()"
   ]
  }
 ],
 "metadata": {
  "kernelspec": {
   "display_name": "Python 3 (ipykernel)",
   "language": "python",
   "name": "python3"
  },
  "language_info": {
   "codemirror_mode": {
    "name": "ipython",
    "version": 3
   },
   "file_extension": ".py",
   "mimetype": "text/x-python",
   "name": "python",
   "nbconvert_exporter": "python",
   "pygments_lexer": "ipython3",
   "version": "3.8.13"
  }
 },
 "nbformat": 4,
 "nbformat_minor": 5
}
